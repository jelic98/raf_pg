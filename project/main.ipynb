{
  "nbformat": 4,
  "nbformat_minor": 0,
  "metadata": {
    "colab": {
      "name": "PG - Projekat.ipynb",
      "provenance": [],
      "collapsed_sections": []
    },
    "kernelspec": {
      "name": "python3",
      "display_name": "Python 3"
    },
    "accelerator": "GPU"
  },
  "cells": [
    {
      "cell_type": "markdown",
      "metadata": {
        "id": "IhDehA7sT-Gx"
      },
      "source": [
        "Original notebook: https://github.com/tugstugi/dl-colab-notebooks/blob/master/notebooks/RealTimeVoiceCloning.ipynb\n"
      ]
    },
    {
      "cell_type": "code",
      "metadata": {
        "id": "e9gPP7Rx4Ig7"
      },
      "source": [
        "import os\n",
        "import sys\n",
        "import numpy as np\n",
        "import ipywidgets as widgets\n",
        "from pathlib import Path\n",
        "from os.path import exists, join, basename, splitext\n",
        "from IPython.utils import io\n",
        "from IPython.display import display, Audio, clear_output"
      ],
      "execution_count": 1,
      "outputs": []
    },
    {
      "cell_type": "code",
      "metadata": {
        "id": "EfkTM9TjUCRx"
      },
      "source": [
        "%tensorflow_version 1.x\n",
        "\n",
        "git = 'https://github.com/jelic98/Real-Time-Voice-Cloning.git'\n",
        "dir = splitext(basename(git))[0]\n",
        "\n",
        "%cd '/content'\n",
        "!rm -rf '{dir}'\n",
        "!git clone -q --recursive '{git}'\n",
        "%cd '{dir}'\n",
        "!pip install -q -r requirements.txt\n",
        "!pip install -q gdown\n",
        "!apt-get install -qq libportaudio2\n",
        "!pip install -q https://github.com/tugstugi/dl-colab-notebooks/archive/colab_utils.zip\n",
        "!gdown https://drive.google.com/uc?id=1n1sPXvT34yXFLT47QZA6FIRGrwMeSsZc && unzip pretrained.zip"
      ],
      "execution_count": null,
      "outputs": []
    },
    {
      "cell_type": "code",
      "metadata": {
        "id": "fsaJFbr_59HV"
      },
      "source": [
        "from encoder import inference as encoder\n",
        "from vocoder import inference as vocoder\n",
        "from synthesizer.inference import Synthesizer\n",
        "from dl_colab_notebooks.audio import record_audio, upload_audio"
      ],
      "execution_count": 9,
      "outputs": []
    },
    {
      "cell_type": "code",
      "metadata": {
        "id": "MLX5RkhM50pZ"
      },
      "source": [
        "encoder.load_model(Path('encoder/saved_models/pretrained.pt'))\n",
        "vocoder.load_model(Path('vocoder/saved_models/pretrained/pretrained.pt'))\n",
        "synthesizer = Synthesizer(Path('synthesizer/saved_models/logs-pretrained/taco_pretrained'))"
      ],
      "execution_count": null,
      "outputs": []
    },
    {
      "cell_type": "code",
      "metadata": {
        "id": "vBeMoBxLkDKN"
      },
      "source": [
        "RATE = 44100\n",
        "source = \"Upload\" #@param [\"Record\", \"Upload\"]\n",
        "duration = 5 #@param {type:\"number\", min:1, max:10, step:1}\n",
        "embedding = None\n",
        "\n",
        "def compute_embedding(audio):\n",
        "    global embedding\n",
        "    display(Audio(audio, rate=RATE, autoplay=True))\n",
        "    embedding = encoder.embed_utterance(encoder.preprocess_wav(audio, RATE))\n",
        "\n",
        "def click_record(button):\n",
        "    clear_output()\n",
        "    audio = record_audio(duration, sample_rate=RATE)\n",
        "    compute_embedding(audio)\n",
        "\n",
        "def click_upload(button):\n",
        "    clear_output()\n",
        "    audio = upload_audio(sample_rate=RATE)\n",
        "    compute_embedding(audio)\n",
        "\n",
        "if source == \"Record\":\n",
        "    button = widgets.Button(description=\"Record your voice\")\n",
        "    button.on_click(click_record)\n",
        "    display(button)\n",
        "else:\n",
        "    button = widgets.Button(description=\"Upload voice file\")\n",
        "    button.on_click(click_upload)\n",
        "    display(button)"
      ],
      "execution_count": null,
      "outputs": []
    },
    {
      "cell_type": "code",
      "metadata": {
        "id": "WZjKkvGF1Y-i"
      },
      "source": [
        "text = \"Companies scramble to define the future of work as COVID-19 lingers\" #@param {type:\"string\"}\n",
        "specs = synthesizer.synthesize_spectrograms([text], [embedding])\n",
        "generated_wav = vocoder.infer_waveform(specs[0])\n",
        "generated_wav = np.pad(generated_wav, (0, synthesizer.sample_rate), mode=\"constant\")\n",
        "clear_output()\n",
        "display(Audio(generated_wav, rate=synthesizer.sample_rate, autoplay=True))"
      ],
      "execution_count": null,
      "outputs": []
    }
  ]
}