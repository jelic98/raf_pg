{
  "nbformat": 4,
  "nbformat_minor": 0,
  "metadata": {
    "colab": {
      "name": "PG - Domaci 2.ipynb",
      "provenance": [],
      "collapsed_sections": []
    },
    "kernelspec": {
      "name": "python3",
      "display_name": "Python 3"
    }
  },
  "cells": [
    {
      "cell_type": "code",
      "metadata": {
        "id": "rLwcyQmLuq9S"
      },
      "source": [
        "import sys\n",
        "import json\n",
        "import numpy as np\n",
        "import scipy.io.wavfile as wf\n",
        "from sys import exit\n",
        "from IPython.display import Audio"
      ],
      "execution_count": null,
      "outputs": []
    },
    {
      "cell_type": "code",
      "metadata": {
        "id": "JhpxEsW99aA2"
      },
      "source": [
        "path_sample = '/content/drive/My Drive/Colab Notebooks/PG/data/female/1.wav' #input(\"WAV path: \")\n",
        "path_templates = '/content/templates.txt' #input(\"Templates path: \")\n",
        "\n",
        "ms_units = True #True if input(\"Use milliseconds as measurement units (yes, no): \") == 'yes' else False\n",
        "\n",
        "p = 50 #int(input(\"Endpointing P: \"))\n",
        "q = 10 #int(input(\"Endpointing Q: \"))\n",
        "noise_len = 100 #float(input(\"Noise length: \"))\n",
        "\n",
        "coef_fun = 'lpcc' #input(\"Coefficients (lpcc, mfcc): \")\n",
        "\n",
        "lpcc_len = 13 #int(input(\"LPCC length: \"))\n",
        "\n",
        "window_fun = 'hanning' #input(\"Windowing function (hanning, hamming, none): \")\n",
        "window_len = 10 #int(input(\"Window length: \"))\n",
        "hop_size = 10 #int(input(\"Hop size: \"))\n",
        "filter_num = 10 #int(input(\"Total filters: \"))\n",
        "mfcc_len = 13 #int(input(\"MFCC length: \"))\n",
        "mfcc_delta = True #True if input(\"Use MFCC delta parameters (yes, no): \") == 'yes' else False\n",
        "mfcc_tau = 3 #int(input(\"MFCC tau: \"))"
      ],
      "execution_count": null,
      "outputs": []
    },
    {
      "cell_type": "code",
      "metadata": {
        "id": "kVMb08IaqCTi"
      },
      "source": [
        "def load_wav(path):\n",
        "    global noise_len, window_len, hop_size\n",
        "\n",
        "    rate, data = wf.read(path)\n",
        "    \n",
        "    if ms_units:\n",
        "        noise_len = ms_to_samples(noise_len, rate)\n",
        "        window_len = ms_to_samples(window_len, rate)\n",
        "        hop_size = ms_to_samples(hop_size, rate)\n",
        "    \n",
        "    return data, rate\n",
        "\n",
        "\n",
        "def play_wav(data, rate):\n",
        "    display(Audio(data, rate=rate))\n",
        "\n",
        "\n",
        "def load_templates(path):\n",
        "    try:\n",
        "        with open(path, 'r') as fd:\n",
        "            return json.load(fd)\n",
        "    except FileNotFoundError:\n",
        "        return []\n",
        "\n",
        "\n",
        "def save_templates(path, templates):\n",
        "    with open(path, 'w') as fd:\n",
        "        json.dump(templates, fd, indent=4)\n",
        "\n",
        "\n",
        "def ms_to_samples(value, rate):\n",
        "    return rate * value // 1000\n",
        "\n",
        "\n",
        "def create_scaffolds(windows, curr, sub, length):\n",
        "    i, lmt = 0, len(windows)\n",
        "    \n",
        "    if windows[-1] != sub:\n",
        "        windows.append(sub)\n",
        "        lmt -= 1\n",
        "    \n",
        "    scaffolds = []\n",
        "\n",
        "    while i < lmt:\n",
        "        if windows[i] == curr:\n",
        "            j = windows.index(sub, i + 1)\n",
        "            if j - i < length:\n",
        "                windows[i:j] = [sub] * (j - i)\n",
        "            else:\n",
        "                scaffolds.append((i, j))\n",
        "            i = j\n",
        "        i += 1\n",
        "    \n",
        "    return scaffolds\n",
        "\n",
        "\n",
        "def apply_slicing(data, rate, window_len, hop_size):\n",
        "    # TODO why use line below\n",
        "    data = np.pad(data, window_len // 2, mode='reflect')\n",
        "    return np.array([data[i:i+window_len] for i in range(0, len(data), hop_size)])\n",
        "\n",
        "\n",
        "def apply_endpointing(data, rate, window_len, p, q):\n",
        "    noise = np.abs(data[:noise_len])\n",
        "    lmt = np.mean(noise) + 2 * np.std(noise)\n",
        "\n",
        "    windows = [1 if np.mean(np.abs(data[i:i+window_len])) > lmt else 0 for i in range(0, len(data), window_len)]\n",
        "\n",
        "    create_scaffolds(windows, 0, 1, p)\n",
        "    scaffolds = create_scaffolds(windows, 1, 0, q)\n",
        "    \n",
        "    if len(scaffolds) == 0:\n",
        "        sys.exit(\"Error: Only silence detected\")\n",
        "    \n",
        "    return [data[i*window_len:j*window_len] for i, j in scaffolds]\n",
        "\n",
        "\n",
        "def apply_windowing(data, rate, fun, size):\n",
        "    funs = {'hanning': np.hanning, 'hamming': np.hamming, 'none': np.ones}\n",
        "\n",
        "    for i in range(data.shape[0]):\n",
        "        data[i] *= funs[fun](data[i].shape[0])\n",
        "\n",
        "    return data\n",
        "\n",
        "\n",
        "def apply_dft(data, window_len):\n",
        "    data_dft = np.empty((1 + window_len // 2, data.shape[0]), dtype=np.complex64)\n",
        "\n",
        "    for i in range(data_dft.shape[1]):\n",
        "        data_dft[:, i] = np.fft.fft(data[i])[:data_dft.shape[0]]\n",
        "\n",
        "    return np.square(np.abs(data_dft))\n",
        "\n",
        "\n",
        "def freq_to_mel(freq):\n",
        "    return 2595.0 * np.log10(1.0 + freq / 700.0)\n",
        "\n",
        "\n",
        "def mel_to_freq(mels):\n",
        "    return 700.0 * (10.0**(mels / 2595.0) - 1.0)\n",
        "\n",
        "\n",
        "def get_filter_points(rate, filter_num, window_len):\n",
        "    mel_min, mel_max = freq_to_mel(0), freq_to_mel(rate // 2)\n",
        "\n",
        "    freqs = mel_to_freq(np.linspace(mel_min, mel_max, filter_num + 2))\n",
        "    points = np.floor((window_len + 1) / rate * freqs).astype(int)\n",
        "\n",
        "    return points, freqs\n",
        "\n",
        "\n",
        "def get_filters(filter_points, window_len):\n",
        "    filter_num = filter_points.shape[0] - 2\n",
        "    filters = np.zeros((filter_num, window_len // 2 + 1))\n",
        "\n",
        "    for i in range(filter_num):\n",
        "        prev, curr, next = filter_points[i], filter_points[i+1], filter_points[i+2]\n",
        "        filters[i, prev:curr] = np.linspace(0, 1, curr - prev)\n",
        "        filters[i, curr:next] = np.linspace(1, 0, next - curr)\n",
        "\n",
        "    return filters\n",
        "\n",
        "\n",
        "def apply_filters(data, filter_num, window_len):\n",
        "    filter_points, mel_freqs = get_filter_points(rate, filter_num, window_len)\n",
        "    filters = get_filters(filter_points, window_len)\n",
        "\n",
        "    enorm = 2.0 / (mel_freqs[2:filter_num+2] - mel_freqs[:filter_num])\n",
        "    filters *= enorm[:, np.newaxis]\n",
        "\n",
        "    return np.dot(filters, data)\n",
        "\n",
        "\n",
        "def apply_dct(data, filter_num, filter_len):\n",
        "    samples = np.arange(1, 2 * filter_len, 2) * np.pi / (2.0 * filter_len)\n",
        "\n",
        "    filters = np.empty((filter_num, filter_len))\n",
        "    filters[0] = 1.0 / np.sqrt(filter_len)\n",
        "    filters[1:] = [np.cos(i * samples) * np.sqrt(2.0 / filter_len) for i in range(1, filter_num)]\n",
        "\n",
        "    return np.dot(filters, 10.0 * np.log10(data))\n",
        "\n",
        "\n",
        "def get_delta(data, tau):\n",
        "    delta = np.empty(data.shape)\n",
        "\n",
        "    # TODO idi u krug bez paddinga\n",
        "    for q in range(data.shape[0]):\n",
        "        dc = np.zeros(data.shape[1] + 2 * tau)\n",
        "        for m in range(tau, data.shape[1] - tau):\n",
        "            dc[m] = data[q][m+tau] - data[q][m-tau]\n",
        "        delta[q] = dc[tau:dc.shape[0]-tau]\n",
        "\n",
        "    return delta\n",
        "\n",
        "\n",
        "def get_lpcc(data, rate, lpcc_len):\n",
        "    data = data / np.max(np.abs(data))\n",
        "\n",
        "    data_slices = apply_slicing(data, rate, window_len, hop_size)\n",
        "    data_windows = apply_windowing(data_slices, rate, window_fun, window_len)\n",
        "\n",
        "    lpcc = np.empty((data_windows.shape[0], lpcc_len))\n",
        "\n",
        "    for i, w in enumerate(data_windows):\n",
        "        r = [sum(s[n] * s[n-k] for n in range(k, w.shape[0])) for k in range(lpcc_len)]\n",
        "        r_mat = [[r[abs(i-j)] for i in range(lpcc_len)] for j in range(lpcc_len)]\n",
        "        lpcc[i] = np.dot(np.linalg.inv(r_mat), r)\n",
        "\n",
        "    return lpcc\n",
        "\n",
        "\n",
        "def get_mfcc(data, rate, mfcc_len, filter_num, add_delta, tau):\n",
        "    data = data / np.max(np.abs(data))\n",
        "\n",
        "    data_slices = apply_slicing(data, rate, window_len, hop_size)\n",
        "    data_windows = apply_windowing(data_slices, rate, window_fun, window_len)\n",
        "    data_dft = apply_dft(data_windows, window_len)\n",
        "    data_filtered = apply_filters(data_dft, filter_num, window_len)\n",
        "    mfcc = apply_dct(data_filtered, mfcc_len, filter_num)\n",
        "\n",
        "    if add_delta:\n",
        "        delta1 = get_delta(mfcc, tau)\n",
        "        mfcc = np.append(mfcc, delta1, axis=0)\n",
        "        delta2 = get_delta(delta1, tau)\n",
        "        mfcc = np.append(mfcc, delta2, axis=0)\n",
        "\n",
        "    return np.transpose(mfcc)\n",
        "\n",
        "\n",
        "def apply_coding(data, rate, coef):\n",
        "    if coef == 'lpcc':\n",
        "        return get_lpcc(data, rate, lpcc_len)\n",
        "    elif coef == 'mfcc':\n",
        "        return get_mfcc(data, rate, mfcc_len, filter_num, mfcc_delta, mfcc_tau)\n",
        "    else:\n",
        "        sys.exit(\"Error: Invalid coefficients\")\n",
        "\n",
        "\n",
        "def apply_dtw(s, t):\n",
        "    n, m = s.shape[0], t.shape[0]\n",
        "\n",
        "    dtw = np.full((n, m), np.inf)\n",
        "    dtw[0, 0] = 0\n",
        "    \n",
        "    for i in range(1, n):\n",
        "        for j in range(1, m):\n",
        "            curr = np.linalg.norm(s[i] - t[j])\n",
        "            prev = np.min([dtw[i-1, j], dtw[i, j-1], dtw[i-1, j-1]])\n",
        "            dtw[i, j] = prev + curr\n",
        "\n",
        "    return dtw[n-1, m-1]"
      ],
      "execution_count": null,
      "outputs": []
    },
    {
      "cell_type": "code",
      "metadata": {
        "id": "kToh9Q9aXhNw",
        "outputId": "5a9b1841-0512-4726-f83e-fee7c066292b",
        "colab": {
          "base_uri": "https://localhost:8080/",
          "height": 146
        }
      },
      "source": [
        "templates = load_templates(path_templates)\n",
        "data, rate = load_wav(path_sample)\n",
        "samples = apply_endpointing(data, rate, window_len, p, q)\n",
        "\n",
        "for i, s in enumerate(samples):\n",
        "    play_wav(s, rate)"
      ],
      "execution_count": null,
      "outputs": [
        {
          "output_type": "error",
          "ename": "SystemExit",
          "evalue": "ignored",
          "traceback": [
            "An exception has occurred, use %tb to see the full traceback.\n",
            "\u001b[0;31mSystemExit\u001b[0m\u001b[0;31m:\u001b[0m Error: Only silence detected\n"
          ]
        },
        {
          "output_type": "stream",
          "text": [
            "/usr/local/lib/python3.6/dist-packages/IPython/core/interactiveshell.py:2890: UserWarning: To exit: use 'exit', 'quit', or Ctrl-D.\n",
            "  warn(\"To exit: use 'exit', 'quit', or Ctrl-D.\", stacklevel=1)\n"
          ],
          "name": "stderr"
        }
      ]
    },
    {
      "cell_type": "code",
      "metadata": {
        "id": "zwqfYVmQunAt",
        "outputId": "832d247d-5282-4bb6-cb33-9ca668239777",
        "colab": {
          "base_uri": "https://localhost:8080/"
        }
      },
      "source": [
        "for i, s in enumerate(samples):\n",
        "    name = input(\"Sample #{} name: \".format(i+1))\n",
        "    lpcc, mfcc = apply_coding(s, rate, 'lpcc').tolist(), apply_coding(s, rate, 'mfcc').tolist()\n",
        "    templates.append({'name': name, 'lpcc': lpcc, 'mfcc': mfcc})\n",
        "\n",
        "save_templates(path_templates, templates)"
      ],
      "execution_count": null,
      "outputs": [
        {
          "output_type": "stream",
          "text": [
            "Sample #1 name: river\n"
          ],
          "name": "stdout"
        },
        {
          "output_type": "stream",
          "text": [
            "/usr/local/lib/python3.6/dist-packages/ipykernel_launcher.py:166: RuntimeWarning: overflow encountered in short_scalars\n"
          ],
          "name": "stderr"
        },
        {
          "output_type": "stream",
          "text": [
            "Sample #2 name: imp\n",
            "Sample #3 name: guitaaa\n"
          ],
          "name": "stdout"
        }
      ]
    },
    {
      "cell_type": "code",
      "metadata": {
        "id": "mAHzo9NBqq6C",
        "outputId": "4cb4ef7e-e7e9-4716-f391-3e9f401c3075",
        "colab": {
          "base_uri": "https://localhost:8080/"
        }
      },
      "source": [
        "templates = load_templates(path_templates)\n",
        "data, rate = load_wav(path_sample)\n",
        "samples = apply_endpointing(data, rate, window_len, p, q)\n",
        "\n",
        "for i, s in enumerate(samples):\n",
        "    coefs = apply_coding(s, rate, coef_fun)\n",
        "    matches = sorted([(t['name'], apply_dtw(coefs, np.array(t[coef_fun]))) for t in templates], key = lambda x: x[1])\n",
        "    print(\"Sample #{}\".format(i+1))\n",
        "    for t, dtw in matches:\n",
        "        if dtw > 0:\n",
        "            print(\"Match: ({})\\t{}\".format(dtw, t))"
      ],
      "execution_count": null,
      "outputs": [
        {
          "output_type": "stream",
          "text": [
            "/usr/local/lib/python3.6/dist-packages/ipykernel_launcher.py:166: RuntimeWarning: overflow encountered in short_scalars\n"
          ],
          "name": "stderr"
        },
        {
          "output_type": "stream",
          "text": [
            "Sample #1\n",
            "Match: (7.89869866932439e-13)\triver\n",
            "Match: (7.89869866932439e-13)\triver\n",
            "Match: (7.938020838961148e-13)\triver\n",
            "Match: (7.938020838961148e-13)\triver\n",
            "Match: (1.440823457050551e-12)\triver\n",
            "Match: (1.584771342469163e-12)\tmanufacturer\n",
            "Match: (2.23137097481238e-12)\triver\n",
            "Match: (2.23137097481238e-12)\triver\n",
            "Match: (2.23137097481238e-12)\triver\n",
            "Match: (2.23137097481238e-12)\triver\n",
            "Match: (2.23137097481238e-12)\triver\n",
            "Match: (2.2962435536056968e-12)\timp\n",
            "Match: (2.689073620701884e-12)\tguitaaa\n",
            "Match: (2.7238742876096513e-12)\triver\n",
            "Match: (2.7238742876096513e-12)\tguitar\n",
            "Match: (3.023777651241763e-12)\triver\n",
            "Match: (3.023777651241763e-12)\timpression\n",
            "Match: (3.2928950470420855e-12)\triver\n",
            "Match: (3.2928950470420855e-12)\triver\n",
            "Match: (3.872654225087584e-12)\tpollution\n",
            "Match: (4.480337354070901e-12)\tpossesion\n"
          ],
          "name": "stdout"
        }
      ]
    }
  ]
}